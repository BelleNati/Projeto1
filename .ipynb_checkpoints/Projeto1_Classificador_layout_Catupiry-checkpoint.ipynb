{
 "cells": [
  {
   "cell_type": "markdown",
   "metadata": {},
   "source": [
    "# Projeto 1 - Ciência dos Dados"
   ]
  },
  {
   "cell_type": "markdown",
   "metadata": {},
   "source": [
    "Nome: Isabelle Moschini Murollo\n",
    "\n",
    "Nome: Maia Fleider\n",
    "\n",
    "Nome: Natália Queiroz Menezes Carreras"
   ]
  },
  {
   "cell_type": "markdown",
   "metadata": {},
   "source": [
    "**Atenção:** Serão permitidos grupos de três pessoas, mas com uma rubrica mais exigente. Grupos deste tamanho precisarão fazer um questionário de avaliação de trabalho em equipe"
   ]
  },
  {
   "cell_type": "markdown",
   "metadata": {},
   "source": [
    "___\n",
    "Carregando algumas bibliotecas:"
   ]
  },
  {
   "cell_type": "code",
   "execution_count": 1,
   "metadata": {},
   "outputs": [],
   "source": [
    "%matplotlib inline\n",
    "import pandas as pd\n",
    "import matplotlib.pyplot as plt\n",
    "import numpy as np\n",
    "import os"
   ]
  },
  {
   "cell_type": "markdown",
   "metadata": {},
   "source": [
    "**Em `filename`, coloque o nome do seu arquivo de dados!**"
   ]
  },
  {
   "cell_type": "code",
   "execution_count": 2,
   "metadata": {},
   "outputs": [
    {
     "name": "stdout",
     "output_type": "stream",
     "text": [
      "Encontrei o arquivo catupiry.xlsx, tudo certo para prosseguir com a prova!\n"
     ]
    }
   ],
   "source": [
    "catupiry = 'catupiry.xlsx'\n",
    "if catupiry in os.listdir():\n",
    "    print(f'Encontrei o arquivo {catupiry}, tudo certo para prosseguir com a prova!')\n",
    "else:\n",
    "    print(f'Não encontrei o arquivo {catupiry} aqui no diretório {os.getcwd()}, será que você não baixou o arquivo?')"
   ]
  },
  {
   "cell_type": "markdown",
   "metadata": {},
   "source": [
    "Carregando a base de dados com os tweets classificados como relevantes e não relevantes:"
   ]
  },
  {
   "cell_type": "code",
   "execution_count": 3,
   "metadata": {},
   "outputs": [
    {
     "data": {
      "text/html": [
       "<div>\n",
       "<style scoped>\n",
       "    .dataframe tbody tr th:only-of-type {\n",
       "        vertical-align: middle;\n",
       "    }\n",
       "\n",
       "    .dataframe tbody tr th {\n",
       "        vertical-align: top;\n",
       "    }\n",
       "\n",
       "    .dataframe thead th {\n",
       "        text-align: right;\n",
       "    }\n",
       "</style>\n",
       "<table border=\"1\" class=\"dataframe\">\n",
       "  <thead>\n",
       "    <tr style=\"text-align: right;\">\n",
       "      <th></th>\n",
       "      <th>Treinamento</th>\n",
       "      <th>RELEVANCIA</th>\n",
       "    </tr>\n",
       "  </thead>\n",
       "  <tbody>\n",
       "    <tr>\n",
       "      <th>0</th>\n",
       "      <td>viciei em hambúrguer com catupiry rota, por qu...</td>\n",
       "      <td>3</td>\n",
       "    </tr>\n",
       "    <tr>\n",
       "      <th>1</th>\n",
       "      <td>@balalirica empadão de frango com catupiry fei...</td>\n",
       "      <td>1</td>\n",
       "    </tr>\n",
       "    <tr>\n",
       "      <th>2</th>\n",
       "      <td>coisas inúteis sobre mim\\naltura — 1,78\\nidade...</td>\n",
       "      <td>2</td>\n",
       "    </tr>\n",
       "    <tr>\n",
       "      <th>3</th>\n",
       "      <td>uma pizza de frango com catupiry no café da manhã</td>\n",
       "      <td>1</td>\n",
       "    </tr>\n",
       "    <tr>\n",
       "      <th>4</th>\n",
       "      <td>nossa queria uma pizza de frango com catupiry ...</td>\n",
       "      <td>2</td>\n",
       "    </tr>\n",
       "  </tbody>\n",
       "</table>\n",
       "</div>"
      ],
      "text/plain": [
       "                                         Treinamento  RELEVANCIA\n",
       "0  viciei em hambúrguer com catupiry rota, por qu...           3\n",
       "1  @balalirica empadão de frango com catupiry fei...           1\n",
       "2  coisas inúteis sobre mim\\naltura — 1,78\\nidade...           2\n",
       "3  uma pizza de frango com catupiry no café da manhã           1\n",
       "4  nossa queria uma pizza de frango com catupiry ...           2"
      ]
     },
     "execution_count": 3,
     "metadata": {},
     "output_type": "execute_result"
    }
   ],
   "source": [
    "train = pd.read_excel(catupiry)\n",
    "train.head(5)"
   ]
  },
  {
   "cell_type": "code",
   "execution_count": 4,
   "metadata": {},
   "outputs": [
    {
     "data": {
      "text/html": [
       "<div>\n",
       "<style scoped>\n",
       "    .dataframe tbody tr th:only-of-type {\n",
       "        vertical-align: middle;\n",
       "    }\n",
       "\n",
       "    .dataframe tbody tr th {\n",
       "        vertical-align: top;\n",
       "    }\n",
       "\n",
       "    .dataframe thead th {\n",
       "        text-align: right;\n",
       "    }\n",
       "</style>\n",
       "<table border=\"1\" class=\"dataframe\">\n",
       "  <thead>\n",
       "    <tr style=\"text-align: right;\">\n",
       "      <th></th>\n",
       "      <th>Teste</th>\n",
       "      <th>RELEVANCIA</th>\n",
       "    </tr>\n",
       "  </thead>\n",
       "  <tbody>\n",
       "    <tr>\n",
       "      <th>0</th>\n",
       "      <td>hoje eu sonhei que tava de rolê aqui pertinho ...</td>\n",
       "      <td>0</td>\n",
       "    </tr>\n",
       "    <tr>\n",
       "      <th>1</th>\n",
       "      <td>@essediafoilouco pizza de frango com catupiry ...</td>\n",
       "      <td>2</td>\n",
       "    </tr>\n",
       "    <tr>\n",
       "      <th>2</th>\n",
       "      <td>@jubaqueen frango com catupiry e banana com ca...</td>\n",
       "      <td>2</td>\n",
       "    </tr>\n",
       "    <tr>\n",
       "      <th>3</th>\n",
       "      <td>@df_porto a @tweetsdaphri não é mineira, mas é...</td>\n",
       "      <td>0</td>\n",
       "    </tr>\n",
       "    <tr>\n",
       "      <th>4</th>\n",
       "      <td>isso aqui! (tirando a parte de encher a cara, ...</td>\n",
       "      <td>0</td>\n",
       "    </tr>\n",
       "  </tbody>\n",
       "</table>\n",
       "</div>"
      ],
      "text/plain": [
       "                                               Teste  RELEVANCIA\n",
       "0  hoje eu sonhei que tava de rolê aqui pertinho ...           0\n",
       "1  @essediafoilouco pizza de frango com catupiry ...           2\n",
       "2  @jubaqueen frango com catupiry e banana com ca...           2\n",
       "3  @df_porto a @tweetsdaphri não é mineira, mas é...           0\n",
       "4  isso aqui! (tirando a parte de encher a cara, ...           0"
      ]
     },
     "execution_count": 4,
     "metadata": {},
     "output_type": "execute_result"
    }
   ],
   "source": [
    "test = pd.read_excel(catupiry, sheet_name = 'Teste')\n",
    "test.head(5)"
   ]
  },
  {
   "cell_type": "markdown",
   "metadata": {},
   "source": [
    "___\n",
    "## Classificador automático de sentimento\n"
   ]
  },
  {
   "cell_type": "markdown",
   "metadata": {},
   "source": [
    "Faça aqui uma descrição do seu produto e o que considerou como relevante ou não relevante na classificação dos tweets.\n",
    "\n",
    "Nós consideramos que os tweets mais relevantes para o produto seriam aqueles que realizassem comentários positivos ou comentários negativos, enquanto os menos relevantes seriam não relacionados diretamente ao produto.\n",
    "\n",
    "Assim, construímos a seguinte escala:\n",
    "\n",
    "0 - comentários não relacionados (irrelevante)\n",
    "\n",
    "1 - comentários neutros ou que não agregassem ao produto (neutro)\n",
    "\n",
    "2 - comentários positivos e elogios (relevante)\n",
    "\n",
    "3 - comentários que envolviam sentimentos positivos muito fortes ou comentários negativos (muito relevante)\n"
   ]
  },
  {
   "cell_type": "markdown",
   "metadata": {},
   "source": [
    "___\n",
    "### Montando um Classificador Naive-Bayes\n",
    "\n",
    "Considerando apenas as mensagens da planilha Treinamento, ensine  seu classificador."
   ]
  },
  {
   "cell_type": "markdown",
   "metadata": {},
   "source": [
    "##### Importando as bibliotecas necessárias:"
   ]
  },
  {
   "cell_type": "code",
   "execution_count": 5,
   "metadata": {},
   "outputs": [],
   "source": [
    "import pandas as pd\n",
    "import emoji\n",
    "from math import *\n",
    "import re\n",
    "from IPython.display import display\n",
    "pd.options.display.max_rows = 13"
   ]
  },
  {
   "cell_type": "markdown",
   "metadata": {},
   "source": [
    "##### Categorizando as classificações:"
   ]
  },
  {
   "cell_type": "code",
   "execution_count": 6,
   "metadata": {},
   "outputs": [],
   "source": [
    "#Para o treinamento\n",
    "train['RELEVANCIA']=train['RELEVANCIA'].astype('category')\n",
    "\n",
    "train['RELEVANCIA'].cat.categories = ['Irrelevante', 'Neutro', 'Relevante', 'Muito Relevante']\n",
    "\n",
    "filtra_irrelevantes = train['RELEVANCIA']=='Irrelevante'\n",
    "filtra_neutro = train['RELEVANCIA']=='Neutro'\n",
    "filtra_relevante = train['RELEVANCIA']=='Relevante'\n",
    "filtra_muito_relevante = train['RELEVANCIA']=='Muito Relevante'\n",
    "\n",
    "irrelevante = train.loc[filtra_irrelevantes,:]\n",
    "neutro = train.loc[filtra_neutro,:]\n",
    "relevante = train.loc[filtra_relevante,:]\n",
    "muito_relevante = train.loc[filtra_muito_relevante,:]\n",
    "\n",
    "#Para o teste\n",
    "test['RELEVANCIA']=test['RELEVANCIA'].astype('category')\n",
    "\n",
    "test['RELEVANCIA'].cat.categories = ['Irrelevante', 'Neutro', 'Relevante', 'Muito Relevante']\n",
    "\n",
    "filtra_irrelevantes_teste = test['RELEVANCIA']=='Irrelevante'\n",
    "filtra_neutro_teste = test['RELEVANCIA']=='Neutro'\n",
    "filtra_relevante_teste = test['RELEVANCIA']=='Relevante'\n",
    "filtra_muito_relevante_teste = test['RELEVANCIA']=='Muito Relevante'\n",
    "\n",
    "irrelevante_teste = test.loc[filtra_irrelevantes_teste,:]\n",
    "neutro_teste = test.loc[filtra_neutro_teste,:]\n",
    "relevante_teste = test.loc[filtra_relevante_teste,:]\n",
    "muito_relevante_teste = test.loc[filtra_muito_relevante_teste,:]"
   ]
  },
  {
   "cell_type": "markdown",
   "metadata": {},
   "source": [
    "##### Criando as funções para limpeza:"
   ]
  },
  {
   "cell_type": "code",
   "execution_count": 7,
   "metadata": {},
   "outputs": [],
   "source": [
    "#REMOVENDO PONTUAÇÕES:\n",
    "def cleanup(tweet):\n",
    "    punctuation = '[!-.:?;\\\"\\n()\\',—•]'\n",
    "    pattern = re.compile(punctuation)\n",
    "    tweet_subbed = re.sub(pattern, '', tweet)\n",
    "    return tweet_subbed"
   ]
  },
  {
   "cell_type": "code",
   "execution_count": 8,
   "metadata": {},
   "outputs": [],
   "source": [
    "#Removendo links de sites\n",
    "def cleanhttp(tweet):\n",
    "    site = 'http[^\\s]*'\n",
    "    pattern = re.compile(site)\n",
    "    tweet_subbed_site = re.sub(pattern, '', tweet)\n",
    "    return tweet_subbed_site"
   ]
  },
  {
   "cell_type": "code",
   "execution_count": 9,
   "metadata": {},
   "outputs": [],
   "source": [
    "#Separando emojis uns dos outros e de palavras\n",
    "def clean_emoji(texto):\n",
    "    novo_texto = ''\n",
    "    for character in texto:\n",
    "        if character in emoji.UNICODE_EMOJI:\n",
    "            novo_texto += ' ' + character + ' '\n",
    "        else:\n",
    "            novo_texto += character\n",
    "    return novo_texto"
   ]
  },
  {
   "cell_type": "code",
   "execution_count": 10,
   "metadata": {},
   "outputs": [],
   "source": [
    "#Removendo palavras pouco relevantes para classificar os tweets, como preposições\n",
    "def clean_palavras2(lista):\n",
    "    nova_lista = []\n",
    "    lista_palavras = ['a', 'e', 'o', 'em', 'de', 'da', 'do', 'eh', 'é', 'que', 'q', 'pra', 'pro', 'para', \\\n",
    "                      'com', 'na', 'no', 'por', 'das', 'dos', 'nas', 'nos']\n",
    "    for palavra in lista:\n",
    "        if palavra in lista_palavras:\n",
    "            nova_lista = nova_lista\n",
    "        else:\n",
    "            nova_lista.append(palavra)\n",
    "    return nova_lista"
   ]
  },
  {
   "cell_type": "markdown",
   "metadata": {},
   "source": [
    "##### Implementando as funções para limpeza:"
   ]
  },
  {
   "cell_type": "code",
   "execution_count": 11,
   "metadata": {},
   "outputs": [],
   "source": [
    "#Espaçando as frases uma das outras:\n",
    "treinamento_string = \"\"\n",
    "for tweet in train.Treinamento:\n",
    "    treinamento_string += \" \"+tweet\n",
    "    \n",
    "#Deixando tudo em letras minúsculas:\n",
    "treinamento_lower = cleanup(treinamento_string.lower())\n",
    "\n",
    "#Apagando links:\n",
    "treinamento_site = cleanhttp(treinamento_lower)\n",
    "\n",
    "#Separando emojis:\n",
    "treinamento_emojis = clean_emoji(treinamento_site)\n",
    "\n",
    "#Separando as palavras:\n",
    "separacao_treinamento = treinamento_emojis.split()\n",
    "\n",
    "#Tirando palavras pouco relevantes, como preposições:\n",
    "tweet_sem_palavras = clean_palavras2(separacao_treinamento) \n",
    "\n",
    "#Transformando lista de palavras em tabela de palavras:\n",
    "serie_treinamento = pd.Series(tweet_sem_palavras)"
   ]
  },
  {
   "cell_type": "code",
   "execution_count": 12,
   "metadata": {},
   "outputs": [],
   "source": [
    "#IRRELEVANTES:\n",
    "#Espaçando as frases uma das outras:\n",
    "treinamento_irrelevantes = \"\"\n",
    "for i in irrelevante.Treinamento:\n",
    "    treinamento_irrelevantes += \" \"+i\n",
    "\n",
    "#Deixando tudo em letras minúsculas:\n",
    "treinamento_lower_irrelevantes = cleanup(treinamento_irrelevantes.lower())\n",
    "\n",
    "#Apagando links:\n",
    "treinamento_site_irrelevantes = cleanhttp(treinamento_lower_irrelevantes)\n",
    "\n",
    "#Separando emojis:\n",
    "treinamento_emojis_irrelevantes = clean_emoji(treinamento_site_irrelevantes)\n",
    "\n",
    "#Separando as palavras:\n",
    "separacao_treinamento_irrelevantes = treinamento_emojis_irrelevantes.split()\n",
    "\n",
    "#Tirando palavras pouco relevantes, como preposições:\n",
    "tweet_sem_palavras_irrelevantes = clean_palavras2(separacao_treinamento_irrelevantes)\n",
    "\n",
    "#Transformando lista de palavras em tabela de palavras:\n",
    "serie_treinamento_irrelevantes = pd.Series(tweet_sem_palavras_irrelevantes)"
   ]
  },
  {
   "cell_type": "code",
   "execution_count": 13,
   "metadata": {},
   "outputs": [],
   "source": [
    "#NEUTRO:\n",
    "#Espaçando as frases uma das outras:\n",
    "treinamento_neutro = \"\"\n",
    "for i in neutro.Treinamento:\n",
    "    treinamento_neutro += \" \"+i\n",
    "\n",
    "#Deixando tudo em letras minúsculas:\n",
    "treinamento_lower_neutro = cleanup(treinamento_neutro.lower())\n",
    "\n",
    "#Apagando links:\n",
    "treinamento_site_neutro = cleanhttp(treinamento_lower_neutro)\n",
    "\n",
    "#Separando emojis:\n",
    "treinamento_emojis_neutro = clean_emoji(treinamento_site_neutro)\n",
    "\n",
    "#Separando as palavras:\n",
    "separacao_treinamento_neutro = treinamento_emojis_neutro.split()\n",
    "\n",
    "#Tirando palavras pouco relevantes, como preposições:\n",
    "tweet_sem_palavras_neutro = clean_palavras2(separacao_treinamento_neutro)\n",
    "\n",
    "#Transformando lista de palavras em tabela de palavras:\n",
    "serie_treinamento_neutro = pd.Series(tweet_sem_palavras_neutro)"
   ]
  },
  {
   "cell_type": "code",
   "execution_count": 14,
   "metadata": {},
   "outputs": [],
   "source": [
    "#RELEVANTES:\n",
    "#Espaçando as frases uma das outras:\n",
    "treinamento_relevantes = \"\"\n",
    "for i in relevante.Treinamento:\n",
    "    treinamento_relevantes += \" \"+i\n",
    "\n",
    "#Deixando tudo em letras minúsculas:\n",
    "treinamento_lower_relevantes = cleanup(treinamento_relevantes.lower())\n",
    "\n",
    "#Apagando links:\n",
    "treinamento_site_relevantes = cleanhttp(treinamento_lower_relevantes)\n",
    "\n",
    "#Separando emojis:\n",
    "treinamento_emojis_relevantes = clean_emoji(treinamento_site_relevantes)\n",
    "\n",
    "#Separando as palavras:\n",
    "separacao_treinamento_relevantes = treinamento_emojis_relevantes.split()\n",
    "\n",
    "#Tirando palavras pouco relevantes, como preposições:\n",
    "tweet_sem_palavras_relevantes = clean_palavras2(separacao_treinamento_relevantes)\n",
    "\n",
    "#Transformando lista de palavras em tabela de palavras:\n",
    "serie_treinamento_relevantes = pd.Series(tweet_sem_palavras_relevantes)"
   ]
  },
  {
   "cell_type": "code",
   "execution_count": 15,
   "metadata": {},
   "outputs": [],
   "source": [
    "#MUITO RELEVANTES:\n",
    "#Espaçando as frases uma das outras:\n",
    "treinamento_muito_relevantes = \"\"\n",
    "for i in muito_relevante.Treinamento:\n",
    "    treinamento_muito_relevantes += \" \"+i\n",
    "\n",
    "#Deixando tudo em letras minúsculas:\n",
    "treinamento_lower_muito_relevantes = cleanup(treinamento_muito_relevantes.lower())\n",
    "\n",
    "#Apagando links:\n",
    "treinamento_site_muito_relevantes = cleanhttp(treinamento_lower_muito_relevantes)\n",
    "\n",
    "#Separando emojis:\n",
    "treinamento_emojis_muito_relevantes = clean_emoji(treinamento_site_muito_relevantes)\n",
    "\n",
    "#Separando as palavras:\n",
    "separacao_treinamento_muito_relevantes = treinamento_emojis_muito_relevantes.split()\n",
    "\n",
    "#Tirando palavras pouco relevantes, como preposições:\n",
    "tweet_sem_palavras_muito_relevantes = clean_palavras2(separacao_treinamento_muito_relevantes)\n",
    "\n",
    "#Transformando lista de palavras em tabela de palavras:\n",
    "serie_treinamento_muito_relevantes = pd.Series(tweet_sem_palavras_muito_relevantes)"
   ]
  },
  {
   "cell_type": "markdown",
   "metadata": {},
   "source": [
    "##### Tabelas de frequencias absolutas:"
   ]
  },
  {
   "cell_type": "code",
   "execution_count": 16,
   "metadata": {},
   "outputs": [],
   "source": [
    "# Tabela de treinamento:\n",
    "frequencia_absoluta_total = serie_treinamento.value_counts()\n",
    "\n",
    "# Tabela de tweets irrelevantes:\n",
    "frequencia_absoluta_irrelevante = serie_treinamento_irrelevantes.value_counts()\n",
    "\n",
    "# Tabela de tweets neutros:\n",
    "frequencia_absoluta_neutro = serie_treinamento_neutro.value_counts()\n",
    "\n",
    "# Tabela de tweets relevantes:  \n",
    "frequencia_absoluta_relevante = serie_treinamento_relevantes.value_counts()\n",
    "    \n",
    "# Tabela de tweets irrelevantes:\n",
    "frequencia_absoluta_muito_relevante = serie_treinamento_muito_relevantes.value_counts()"
   ]
  },
  {
   "cell_type": "markdown",
   "metadata": {},
   "source": [
    "### Teorema Naive-Bayes:\n",
    "###### Adicionando variáveis:"
   ]
  },
  {
   "cell_type": "code",
   "execution_count": 17,
   "metadata": {},
   "outputs": [],
   "source": [
    "a = 1e-6   \n",
    "v = 1e6  #palavras totais na língua portuguesa/usadas no twitter\n",
    "\n",
    "lista_NB = [] #lista do Naive Bayes"
   ]
  },
  {
   "cell_type": "code",
   "execution_count": 18,
   "metadata": {},
   "outputs": [],
   "source": [
    "#Calculando as probabilidades\n",
    "P_irrelevante = frequencia_absoluta_irrelevante.sum() / frequencia_absoluta_total.sum()\n",
    "P_neutro = frequencia_absoluta_neutro.sum() / frequencia_absoluta_total.sum()\n",
    "P_relevante = frequencia_absoluta_relevante.sum() / frequencia_absoluta_total.sum()\n",
    "P_muito_relevante = frequencia_absoluta_muito_relevante.sum() / frequencia_absoluta_total.sum()"
   ]
  },
  {
   "cell_type": "code",
   "execution_count": 19,
   "metadata": {},
   "outputs": [],
   "source": [
    "#Criando função para somatória envolvendo log das probabilidades\n",
    "prob_unknown = (a/(frequencia_absoluta_total + a*v))\n",
    "\n",
    "def score(tweet, prob, prior, prob_unknown):\n",
    "    resultado_log = 0\n",
    "    for palavra in tweet:\n",
    "        if palavra in prob:\n",
    "            resultado_log += log10(prob[palavra])\n",
    "        else:\n",
    "            resultado_log += log10(prob_unknown)\n",
    "    return resultado_log"
   ]
  },
  {
   "cell_type": "code",
   "execution_count": 21,
   "metadata": {},
   "outputs": [],
   "source": [
    "for tweet in test.Teste:    \n",
    "    #Deixando tudo em letras minúsculas:\n",
    "    teste_lower = cleanup(tweet.lower())\n",
    "\n",
    "    #Apagando links:\n",
    "    teste_site = cleanhttp(teste_lower)\n",
    "\n",
    "    #Separando emojis:\n",
    "    teste_emojis = clean_emoji(teste_site)\n",
    "\n",
    "    #Separando as palavras:\n",
    "    separacao_teste = clean_palavras2(teste_emojis.split())\n",
    "    \n",
    "    \n",
    "    # Calculando a probabilidade do tweet ser irrelevante:\n",
    "    P_tweet_dado_irrelevante = 1\n",
    "    for i in separacao_teste:\n",
    "        if i in frequencia_absoluta_irrelevante:\n",
    "            P_i_dado_irrelevante = (frequencia_absoluta_irrelevante[i] + a) / (frequencia_absoluta_irrelevante.sum() + a*v)\n",
    "        else:\n",
    "            P_i_dado_irrelevante = (a) / (frequencia_absoluta_irrelevante.sum() + a*v)\n",
    "        P_tweet_dado_irrelevante *= P_i_dado_irrelevante\n",
    "    \n",
    "    # Calculando a probabilidade do tweet ser neutro:\n",
    "    P_tweet_dado_neutro = 1 \n",
    "    for i in separacao_teste:\n",
    "        if i in frequencia_absoluta_neutro:\n",
    "            P_i_dado_neutro = (frequencia_absoluta_neutro[i] + a) / (frequencia_absoluta_neutro.sum() + a*v)\n",
    "        else:\n",
    "            P_i_dado_neutro = (a) / (frequencia_absoluta_neutro.sum() + a*v)\n",
    "        P_tweet_dado_neutro *= P_i_dado_neutro\n",
    "    \n",
    "    # Calculando a probabilidade do tweet ser relevante:\n",
    "    P_tweet_dado_relevante = 1 \n",
    "    for i in separacao_teste:\n",
    "        if i in frequencia_absoluta_relevante:\n",
    "            P_i_dado_relevante = (frequencia_absoluta_relevante[i] + a) / (frequencia_absoluta_relevante.sum() + a*v)\n",
    "        else:\n",
    "            P_i_dado_relevante = (a) / (frequencia_absoluta_relevante.sum() + a*v)\n",
    "        P_tweet_dado_relevante *= P_i_dado_relevante\n",
    "    \n",
    "    # Calculando a probabilidade do tweet ser muito relevante:\n",
    "    P_tweet_dado_muito_relevante = 1 \n",
    "    for i in separacao_teste:\n",
    "        if i in frequencia_absoluta_muito_relevante:\n",
    "            P_i_dado_muito_relevante = (frequencia_absoluta_muito_relevante[i] + a) / (frequencia_absoluta_muito_relevante.sum() + a*v)\n",
    "        else:\n",
    "            P_i_dado_muito_relevante = (a) / (frequencia_absoluta_muito_relevante.sum() + a*v)\n",
    "        P_tweet_dado_muito_relevante *= P_i_dado_muito_relevante\n",
    "        \n",
    "        \n",
    "    dic_tweet_irrelevante = {}\n",
    "    dic_tweet_neutro = {}\n",
    "    dic_tweet_relevante = {}\n",
    "    dic_tweet_muito_relevante = {}\n",
    "    \n",
    "    for palavra in separacao_teste: #utilizando o separacao_teste, o for irá percorrer uma lista de palavras de cada tweet ao invés de percorrer o tweet caracter a caracter\n",
    "        dic_tweet_irrelevante[palavra] = P_tweet_dado_irrelevante\n",
    "        dic_tweet_neutro[palavra] = P_tweet_dado_neutro\n",
    "        dic_tweet_relevante[palavra] = P_tweet_dado_relevante\n",
    "        dic_tweet_muito_relevante[palavra] = P_tweet_dado_muito_relevante\n",
    "        \n",
    "\n",
    "    \n",
    "    # Comparando as probabilidades utilizando o método Naive-Bayes \n",
    "    #utilizando o separacao_teste na função, o for da função irá percorrer uma lista de palavras de cada tweet ao invés de percorrer o tweet caracter a caracter\n",
    "\n",
    "    if score(separacao_teste, dic_tweet_muito_relevante, P_muito_relevante, prob_unknown) > score(separacao_teste, dic_tweet_irrelevante, P_irrelevante, prob_unknown) \\\n",
    "        and score(separacao_teste, dic_tweet_muito_relevante, P_muito_relevante, prob_unknown) > score(separacao_teste, dic_tweet_neutro, P_neutro, prob_unknown) \\\n",
    "        and score(separacao_teste, dic_tweet_muito_relevante, P_muito_relevante, prob_unknown) > score(separacao_teste, dic_tweet_relevante, P_relevante, prob_unknown):\n",
    "        lista_NB.append(\"Muito Relevante\")\n",
    "        \n",
    "    elif score(separacao_teste, dic_tweet_irrelevante, P_irrelevante, prob_unknown) > score(separacao_teste, dic_tweet_relevante, P_relevante, prob_unknown) \\\n",
    "        and score(separacao_teste, dic_tweet_irrelevante, P_irrelevante, prob_unknown) > score(separacao_teste, dic_tweet_neutro, P_neutro, prob_unknown) \\\n",
    "        and score(separacao_teste, dic_tweet_irrelevante, P_irrelevante, prob_unknown) > score(separacao_teste, dic_tweet_muito_relevante, P_muito_relevante, prob_unknown):\n",
    "        lista_NB.append(\"Irrelevante\")\n",
    "    \n",
    "        \n",
    "    elif score(separacao_teste, dic_tweet_relevante, P_relevante, prob_unknown) > score(separacao_teste, dic_tweet_irrelevante, P_irrelevante, prob_unknown) \\\n",
    "        and score(separacao_teste, dic_tweet_relevante, P_relevante, prob_unknown) > score(separacao_teste, dic_tweet_neutro, P_neutro, prob_unknown) \\\n",
    "        and score(separacao_teste, dic_tweet_relevante, P_relevante, prob_unknown) > score(separacao_teste, dic_tweet_muito_relevante, P_muito_relevante, prob_unknown):\n",
    "        lista_NB.append(\"Relevante\")\n",
    "      \n",
    "    \n",
    "    elif score(separacao_teste, dic_tweet_neutro, P_neutro, prob_unknown) > score(separacao_teste, dic_tweet_irrelevante, P_irrelevante, prob_unknown) \\\n",
    "        and score(separacao_teste, dic_tweet_neutro, P_neutro, prob_unknown) > score(separacao_teste, dic_tweet_relevante, P_relevante, prob_unknown) \\\n",
    "        and score(separacao_teste, dic_tweet_neutro, P_neutro, prob_unknown) > score(separacao_teste, dic_tweet_muito_relevante, P_muito_relevante, prob_unknown):\n",
    "        lista_NB.append(\"Neutro\")"
   ]
  },
  {
   "cell_type": "code",
   "execution_count": 23,
   "metadata": {},
   "outputs": [
    {
     "data": {
      "text/html": [
       "<div>\n",
       "<style scoped>\n",
       "    .dataframe tbody tr th:only-of-type {\n",
       "        vertical-align: middle;\n",
       "    }\n",
       "\n",
       "    .dataframe tbody tr th {\n",
       "        vertical-align: top;\n",
       "    }\n",
       "\n",
       "    .dataframe thead th {\n",
       "        text-align: right;\n",
       "    }\n",
       "</style>\n",
       "<table border=\"1\" class=\"dataframe\">\n",
       "  <thead>\n",
       "    <tr style=\"text-align: right;\">\n",
       "      <th></th>\n",
       "      <th>Teste</th>\n",
       "      <th>RELEVANCIA</th>\n",
       "      <th>RELEVANCIA (Naive Bayes)</th>\n",
       "    </tr>\n",
       "  </thead>\n",
       "  <tbody>\n",
       "    <tr>\n",
       "      <th>0</th>\n",
       "      <td>hoje eu sonhei que tava de rolê aqui pertinho ...</td>\n",
       "      <td>Irrelevante</td>\n",
       "      <td>Relevante</td>\n",
       "    </tr>\n",
       "    <tr>\n",
       "      <th>1</th>\n",
       "      <td>@essediafoilouco pizza de frango com catupiry ...</td>\n",
       "      <td>Relevante</td>\n",
       "      <td>Muito Relevante</td>\n",
       "    </tr>\n",
       "    <tr>\n",
       "      <th>2</th>\n",
       "      <td>@jubaqueen frango com catupiry e banana com ca...</td>\n",
       "      <td>Relevante</td>\n",
       "      <td>Muito Relevante</td>\n",
       "    </tr>\n",
       "    <tr>\n",
       "      <th>3</th>\n",
       "      <td>@df_porto a @tweetsdaphri não é mineira, mas é...</td>\n",
       "      <td>Irrelevante</td>\n",
       "      <td>Neutro</td>\n",
       "    </tr>\n",
       "    <tr>\n",
       "      <th>4</th>\n",
       "      <td>isso aqui! (tirando a parte de encher a cara, ...</td>\n",
       "      <td>Irrelevante</td>\n",
       "      <td>Irrelevante</td>\n",
       "    </tr>\n",
       "  </tbody>\n",
       "</table>\n",
       "</div>"
      ],
      "text/plain": [
       "                                               Teste   RELEVANCIA  \\\n",
       "0  hoje eu sonhei que tava de rolê aqui pertinho ...  Irrelevante   \n",
       "1  @essediafoilouco pizza de frango com catupiry ...    Relevante   \n",
       "2  @jubaqueen frango com catupiry e banana com ca...    Relevante   \n",
       "3  @df_porto a @tweetsdaphri não é mineira, mas é...  Irrelevante   \n",
       "4  isso aqui! (tirando a parte de encher a cara, ...  Irrelevante   \n",
       "\n",
       "  RELEVANCIA (Naive Bayes)  \n",
       "0                Relevante  \n",
       "1          Muito Relevante  \n",
       "2          Muito Relevante  \n",
       "3                   Neutro  \n",
       "4              Irrelevante  "
      ]
     },
     "execution_count": 23,
     "metadata": {},
     "output_type": "execute_result"
    }
   ],
   "source": [
    "test['RELEVANCIA (Naive Bayes)'] = lista_NB\n",
    "test.head()"
   ]
  },
  {
   "cell_type": "markdown",
   "metadata": {},
   "source": [
    "___\n",
    "### Verificando a performance do Classificador\n",
    "\n",
    "Agora você deve testar o seu classificador com a base de Testes."
   ]
  },
  {
   "cell_type": "code",
   "execution_count": 24,
   "metadata": {},
   "outputs": [],
   "source": [
    "#Criando as variáveis a serem alteradas\n",
    "total_irrelevantes = 0\n",
    "total_neutros = 0\n",
    "total_relevantes = 0\n",
    "total_muitorelevantes = 0\n",
    "\n",
    "verdadeiros_irrelevantes = 0\n",
    "falsos_irrelevantes = 0\n",
    "\n",
    "verdadeiros_neutros = 0\n",
    "falsos_neutros = 0\n",
    "\n",
    "verdadeiros_relevantes = 0\n",
    "falsos_relevantes = 0\n",
    "\n",
    "verdadeiros_muitorelevantes = 0\n",
    "falsos_muitorelevantes = 0"
   ]
  },
  {
   "cell_type": "code",
   "execution_count": 25,
   "metadata": {},
   "outputs": [],
   "source": [
    "#Encontrando os 'falsos' e 'verdadeiros' para cada categoria\n",
    "for index, row in test.iterrows():\n",
    "    if row['RELEVANCIA']==\"Irrelevante\":\n",
    "        total_irrelevantes+=1\n",
    "        \n",
    "    if row['RELEVANCIA']==\"Neutro\":\n",
    "        total_neutros+=1     \n",
    "        \n",
    "    if row['RELEVANCIA']==\"Relevante\":\n",
    "        total_relevantes+=1\n",
    "        \n",
    "    if row['RELEVANCIA']==\"Muito Relevante\":\n",
    "        total_muitorelevantes+=1\n",
    "        \n",
    "        \n",
    "    if row['RELEVANCIA (Naive Bayes)'] == \"Irrelevante\":\n",
    "        if row['RELEVANCIA']==\"Irrelevante\":\n",
    "            verdadeiros_irrelevantes+=1\n",
    "        else:\n",
    "            falsos_irrelevantes+=1\n",
    "    \n",
    "    if row['RELEVANCIA (Naive Bayes)'] == \"Neutro\":\n",
    "        if row['RELEVANCIA']==\"Neutro\":\n",
    "            verdadeiros_neutros+=1\n",
    "        else:\n",
    "            falsos_neutros+=1\n",
    "    \n",
    "    if row['RELEVANCIA (Naive Bayes)'] == \"Relevante\":\n",
    "        if row['RELEVANCIA']==\"Relevante\":\n",
    "            verdadeiros_relevantes+=1\n",
    "        else:\n",
    "            falsos_relevantes+=1\n",
    "        \n",
    "    if row['RELEVANCIA (Naive Bayes)'] == \"Muito Relevante\":\n",
    "        if row['RELEVANCIA']==\"Muito Relevante\":\n",
    "            verdadeiros_muitorelevantes+=1\n",
    "        else:\n",
    "            falsos_muitorelevantes+=1   "
   ]
  },
  {
   "cell_type": "code",
   "execution_count": 26,
   "metadata": {},
   "outputs": [],
   "source": [
    "#Calculando as porcentagens dos falsos e verdadeiros de cada categoria\n",
    "Por_verdadeiros_irrelevantes = verdadeiros_irrelevantes/total_irrelevantes\n",
    "Por_falsos_irrelevantes = falsos_irrelevantes/total_irrelevantes\n",
    "\n",
    "Por_verdadeiros_neutros = verdadeiros_neutros/total_neutros\n",
    "Por_falsos_neutros = falsos_neutros/total_neutros\n",
    "\n",
    "Por_verdadeiros_relevantes = verdadeiros_relevantes/total_relevantes\n",
    "Por_falsos_relevantes = falsos_relevantes/total_relevantes\n",
    "\n",
    "Por_verdadeiros_muitorelevantes = verdadeiros_muitorelevantes/total_muitorelevantes\n",
    "Por_falsos_muitorelevantes = falsos_muitorelevantes/total_muitorelevantes"
   ]
  },
  {
   "cell_type": "code",
   "execution_count": 27,
   "metadata": {},
   "outputs": [
    {
     "name": "stdout",
     "output_type": "stream",
     "text": [
      "Mensagens irrelevantes e que são classificadas como irrelevantes:  63.23529411764706 %\n",
      "Mensagens irrelevantes e que NÃO são classificadas como irrelevantes:  36.76470588235294 %\n",
      "\n",
      "Mensagens neutras e que são classificadas como neutras:  46.34146341463415 %\n",
      "Mensagens neutras e que NÃO são classificadas como neutras:  43.90243902439025 %\n",
      "\n",
      "Mensagens relevantes e que são classificadas como relevantes:  39.325842696629216 %\n",
      "Mensagens relevantes e que NÃO são classificadas como relevantes:  68.53932584269663 %\n",
      "\n",
      "Mensagens muito relevantes e que são classificadas como muito relevantes :  45.83333333333333 %\n",
      "Mensagens muito relevantes e que NÃO são classificadas como muito relevantes :  55.208333333333336 %\n"
     ]
    }
   ],
   "source": [
    "#Imprimindo os resultados\n",
    "print('Mensagens irrelevantes e que são classificadas como irrelevantes: ', Por_verdadeiros_irrelevantes*100, '%')\n",
    "print('Mensagens irrelevantes e que NÃO são classificadas como irrelevantes: ', Por_falsos_irrelevantes*100, '%')\n",
    "print()\n",
    "\n",
    "print('Mensagens neutras e que são classificadas como neutras: ', Por_verdadeiros_neutros*100, '%')\n",
    "print('Mensagens neutras e que NÃO são classificadas como neutras: ', Por_falsos_neutros*100, '%')\n",
    "print()\n",
    "\n",
    "print('Mensagens relevantes e que são classificadas como relevantes: ', Por_verdadeiros_relevantes*100, '%')\n",
    "print('Mensagens relevantes e que NÃO são classificadas como relevantes: ', Por_falsos_relevantes*100, '%')\n",
    "print()\n",
    "\n",
    "print('Mensagens muito relevantes e que são classificadas como muito relevantes : ', Por_verdadeiros_muitorelevantes*100, '%')\n",
    "print('Mensagens muito relevantes e que NÃO são classificadas como muito relevantes : ', Por_falsos_muitorelevantes*100, '%')"
   ]
  },
  {
   "cell_type": "code",
   "execution_count": 28,
   "metadata": {},
   "outputs": [
    {
     "data": {
      "text/html": [
       "<div>\n",
       "<style scoped>\n",
       "    .dataframe tbody tr th:only-of-type {\n",
       "        vertical-align: middle;\n",
       "    }\n",
       "\n",
       "    .dataframe tbody tr th {\n",
       "        vertical-align: top;\n",
       "    }\n",
       "\n",
       "    .dataframe thead th {\n",
       "        text-align: right;\n",
       "    }\n",
       "</style>\n",
       "<table border=\"1\" class=\"dataframe\">\n",
       "  <thead>\n",
       "    <tr style=\"text-align: right;\">\n",
       "      <th>RELEVANCIA (Naive Bayes)</th>\n",
       "      <th>Irrelevante</th>\n",
       "      <th>Muito Relevante</th>\n",
       "      <th>Neutro</th>\n",
       "      <th>Relevante</th>\n",
       "    </tr>\n",
       "    <tr>\n",
       "      <th>RELEVANCIA</th>\n",
       "      <th></th>\n",
       "      <th></th>\n",
       "      <th></th>\n",
       "      <th></th>\n",
       "    </tr>\n",
       "  </thead>\n",
       "  <tbody>\n",
       "    <tr>\n",
       "      <th>Irrelevante</th>\n",
       "      <td>0.128358</td>\n",
       "      <td>0.023881</td>\n",
       "      <td>0.026866</td>\n",
       "      <td>0.023881</td>\n",
       "    </tr>\n",
       "    <tr>\n",
       "      <th>Neutro</th>\n",
       "      <td>0.032836</td>\n",
       "      <td>0.047761</td>\n",
       "      <td>0.113433</td>\n",
       "      <td>0.050746</td>\n",
       "    </tr>\n",
       "    <tr>\n",
       "      <th>Relevante</th>\n",
       "      <td>0.023881</td>\n",
       "      <td>0.086567</td>\n",
       "      <td>0.050746</td>\n",
       "      <td>0.104478</td>\n",
       "    </tr>\n",
       "    <tr>\n",
       "      <th>Muito Relevante</th>\n",
       "      <td>0.017910</td>\n",
       "      <td>0.131343</td>\n",
       "      <td>0.029851</td>\n",
       "      <td>0.107463</td>\n",
       "    </tr>\n",
       "  </tbody>\n",
       "</table>\n",
       "</div>"
      ],
      "text/plain": [
       "RELEVANCIA (Naive Bayes)  Irrelevante  Muito Relevante    Neutro  Relevante\n",
       "RELEVANCIA                                                                 \n",
       "Irrelevante                  0.128358         0.023881  0.026866   0.023881\n",
       "Neutro                       0.032836         0.047761  0.113433   0.050746\n",
       "Relevante                    0.023881         0.086567  0.050746   0.104478\n",
       "Muito Relevante              0.017910         0.131343  0.029851   0.107463"
      ]
     },
     "execution_count": 28,
     "metadata": {},
     "output_type": "execute_result"
    }
   ],
   "source": [
    "tabela = pd.crosstab(test['RELEVANCIA'], test['RELEVANCIA (Naive Bayes)'], normalize='all')\n",
    "tabela"
   ]
  },
  {
   "cell_type": "code",
   "execution_count": 29,
   "metadata": {},
   "outputs": [
    {
     "data": {
      "text/plain": [
       "'48.00000000000001 %'"
      ]
     },
     "execution_count": 29,
     "metadata": {},
     "output_type": "execute_result"
    }
   ],
   "source": [
    "f'{(tabela.iloc[0,0] + tabela.iloc[1,2] + tabela.iloc[2,3] + tabela.iloc[3,1])*100.5} %'"
   ]
  },
  {
   "cell_type": "code",
   "execution_count": 30,
   "metadata": {},
   "outputs": [
    {
     "data": {
      "text/html": [
       "<div>\n",
       "<style scoped>\n",
       "    .dataframe tbody tr th:only-of-type {\n",
       "        vertical-align: middle;\n",
       "    }\n",
       "\n",
       "    .dataframe tbody tr th {\n",
       "        vertical-align: top;\n",
       "    }\n",
       "\n",
       "    .dataframe thead th {\n",
       "        text-align: right;\n",
       "    }\n",
       "</style>\n",
       "<table border=\"1\" class=\"dataframe\">\n",
       "  <thead>\n",
       "    <tr style=\"text-align: right;\">\n",
       "      <th></th>\n",
       "      <th>RELEVANCIA</th>\n",
       "      <th>Irrelevante</th>\n",
       "      <th>Neutro</th>\n",
       "      <th>Relevante</th>\n",
       "      <th>Muito Relevante</th>\n",
       "    </tr>\n",
       "  </thead>\n",
       "  <tbody>\n",
       "    <tr>\n",
       "      <th rowspan=\"4\" valign=\"top\">Teste</th>\n",
       "      <th>count</th>\n",
       "      <td>68</td>\n",
       "      <td>82</td>\n",
       "      <td>89</td>\n",
       "      <td>96</td>\n",
       "    </tr>\n",
       "    <tr>\n",
       "      <th>unique</th>\n",
       "      <td>63</td>\n",
       "      <td>79</td>\n",
       "      <td>88</td>\n",
       "      <td>95</td>\n",
       "    </tr>\n",
       "    <tr>\n",
       "      <th>top</th>\n",
       "      <td>@anadotelhado a última pizza que eu pedi lá el...</td>\n",
       "      <td>to pensando em fazer pra semana que vem uma fo...</td>\n",
       "      <td>rt @cunhajulliana: eu posso comer qualquer sab...</td>\n",
       "      <td>@pedrohro15 não resisti, ela tinha catupiry, f...</td>\n",
       "    </tr>\n",
       "    <tr>\n",
       "      <th>freq</th>\n",
       "      <td>2</td>\n",
       "      <td>2</td>\n",
       "      <td>2</td>\n",
       "      <td>2</td>\n",
       "    </tr>\n",
       "    <tr>\n",
       "      <th rowspan=\"4\" valign=\"top\">RELEVANCIA (Naive Bayes)</th>\n",
       "      <th>count</th>\n",
       "      <td>68</td>\n",
       "      <td>82</td>\n",
       "      <td>89</td>\n",
       "      <td>96</td>\n",
       "    </tr>\n",
       "    <tr>\n",
       "      <th>unique</th>\n",
       "      <td>4</td>\n",
       "      <td>4</td>\n",
       "      <td>4</td>\n",
       "      <td>4</td>\n",
       "    </tr>\n",
       "    <tr>\n",
       "      <th>top</th>\n",
       "      <td>Irrelevante</td>\n",
       "      <td>Neutro</td>\n",
       "      <td>Relevante</td>\n",
       "      <td>Muito Relevante</td>\n",
       "    </tr>\n",
       "    <tr>\n",
       "      <th>freq</th>\n",
       "      <td>43</td>\n",
       "      <td>38</td>\n",
       "      <td>35</td>\n",
       "      <td>44</td>\n",
       "    </tr>\n",
       "  </tbody>\n",
       "</table>\n",
       "</div>"
      ],
      "text/plain": [
       "RELEVANCIA                                                             Irrelevante  \\\n",
       "Teste                    count                                                  68   \n",
       "                         unique                                                 63   \n",
       "                         top     @anadotelhado a última pizza que eu pedi lá el...   \n",
       "                         freq                                                    2   \n",
       "RELEVANCIA (Naive Bayes) count                                                  68   \n",
       "                         unique                                                  4   \n",
       "                         top                                           Irrelevante   \n",
       "                         freq                                                   43   \n",
       "\n",
       "RELEVANCIA                                                                  Neutro  \\\n",
       "Teste                    count                                                  82   \n",
       "                         unique                                                 79   \n",
       "                         top     to pensando em fazer pra semana que vem uma fo...   \n",
       "                         freq                                                    2   \n",
       "RELEVANCIA (Naive Bayes) count                                                  82   \n",
       "                         unique                                                  4   \n",
       "                         top                                                Neutro   \n",
       "                         freq                                                   38   \n",
       "\n",
       "RELEVANCIA                                                               Relevante  \\\n",
       "Teste                    count                                                  89   \n",
       "                         unique                                                 88   \n",
       "                         top     rt @cunhajulliana: eu posso comer qualquer sab...   \n",
       "                         freq                                                    2   \n",
       "RELEVANCIA (Naive Bayes) count                                                  89   \n",
       "                         unique                                                  4   \n",
       "                         top                                             Relevante   \n",
       "                         freq                                                   35   \n",
       "\n",
       "RELEVANCIA                                                         Muito Relevante  \n",
       "Teste                    count                                                  96  \n",
       "                         unique                                                 95  \n",
       "                         top     @pedrohro15 não resisti, ela tinha catupiry, f...  \n",
       "                         freq                                                    2  \n",
       "RELEVANCIA (Naive Bayes) count                                                  96  \n",
       "                         unique                                                  4  \n",
       "                         top                                       Muito Relevante  \n",
       "                         freq                                                   44  "
      ]
     },
     "execution_count": 30,
     "metadata": {},
     "output_type": "execute_result"
    }
   ],
   "source": [
    "test.groupby(by=\"RELEVANCIA\").describe().transpose()"
   ]
  },
  {
   "cell_type": "code",
   "execution_count": 31,
   "metadata": {},
   "outputs": [
    {
     "data": {
      "text/html": [
       "<div>\n",
       "<style scoped>\n",
       "    .dataframe tbody tr th:only-of-type {\n",
       "        vertical-align: middle;\n",
       "    }\n",
       "\n",
       "    .dataframe tbody tr th {\n",
       "        vertical-align: top;\n",
       "    }\n",
       "\n",
       "    .dataframe thead th {\n",
       "        text-align: right;\n",
       "    }\n",
       "</style>\n",
       "<table border=\"1\" class=\"dataframe\">\n",
       "  <thead>\n",
       "    <tr style=\"text-align: right;\">\n",
       "      <th></th>\n",
       "      <th>RELEVANCIA (Naive Bayes)</th>\n",
       "      <th>Irrelevante</th>\n",
       "      <th>Muito Relevante</th>\n",
       "      <th>Neutro</th>\n",
       "      <th>Relevante</th>\n",
       "    </tr>\n",
       "  </thead>\n",
       "  <tbody>\n",
       "    <tr>\n",
       "      <th rowspan=\"4\" valign=\"top\">Teste</th>\n",
       "      <th>count</th>\n",
       "      <td>68</td>\n",
       "      <td>97</td>\n",
       "      <td>74</td>\n",
       "      <td>96</td>\n",
       "    </tr>\n",
       "    <tr>\n",
       "      <th>unique</th>\n",
       "      <td>58</td>\n",
       "      <td>92</td>\n",
       "      <td>72</td>\n",
       "      <td>89</td>\n",
       "    </tr>\n",
       "    <tr>\n",
       "      <th>top</th>\n",
       "      <td>afz a off do catupiry tem 12 anos nao eh possivel</td>\n",
       "      <td>vontade de um pastelzao chines de frango com c...</td>\n",
       "      <td>@cardoso injetei catupiry</td>\n",
       "      <td>costelinha com barbecue e queijo; e camarão co...</td>\n",
       "    </tr>\n",
       "    <tr>\n",
       "      <th>freq</th>\n",
       "      <td>2</td>\n",
       "      <td>2</td>\n",
       "      <td>2</td>\n",
       "      <td>2</td>\n",
       "    </tr>\n",
       "    <tr>\n",
       "      <th rowspan=\"4\" valign=\"top\">RELEVANCIA</th>\n",
       "      <th>count</th>\n",
       "      <td>68</td>\n",
       "      <td>97</td>\n",
       "      <td>74</td>\n",
       "      <td>96</td>\n",
       "    </tr>\n",
       "    <tr>\n",
       "      <th>unique</th>\n",
       "      <td>4</td>\n",
       "      <td>4</td>\n",
       "      <td>4</td>\n",
       "      <td>4</td>\n",
       "    </tr>\n",
       "    <tr>\n",
       "      <th>top</th>\n",
       "      <td>Irrelevante</td>\n",
       "      <td>Muito Relevante</td>\n",
       "      <td>Neutro</td>\n",
       "      <td>Muito Relevante</td>\n",
       "    </tr>\n",
       "    <tr>\n",
       "      <th>freq</th>\n",
       "      <td>43</td>\n",
       "      <td>44</td>\n",
       "      <td>38</td>\n",
       "      <td>36</td>\n",
       "    </tr>\n",
       "  </tbody>\n",
       "</table>\n",
       "</div>"
      ],
      "text/plain": [
       "RELEVANCIA (Naive Bayes)                                        Irrelevante  \\\n",
       "Teste      count                                                         68   \n",
       "           unique                                                        58   \n",
       "           top            afz a off do catupiry tem 12 anos nao eh possivel   \n",
       "           freq                                                           2   \n",
       "RELEVANCIA count                                                         68   \n",
       "           unique                                                         4   \n",
       "           top                                                  Irrelevante   \n",
       "           freq                                                          43   \n",
       "\n",
       "RELEVANCIA (Naive Bayes)                                    Muito Relevante  \\\n",
       "Teste      count                                                         97   \n",
       "           unique                                                        92   \n",
       "           top            vontade de um pastelzao chines de frango com c...   \n",
       "           freq                                                           2   \n",
       "RELEVANCIA count                                                         97   \n",
       "           unique                                                         4   \n",
       "           top                                              Muito Relevante   \n",
       "           freq                                                          44   \n",
       "\n",
       "RELEVANCIA (Naive Bayes)                     Neutro  \\\n",
       "Teste      count                                 74   \n",
       "           unique                                72   \n",
       "           top            @cardoso injetei catupiry   \n",
       "           freq                                   2   \n",
       "RELEVANCIA count                                 74   \n",
       "           unique                                 4   \n",
       "           top                               Neutro   \n",
       "           freq                                  38   \n",
       "\n",
       "RELEVANCIA (Naive Bayes)                                          Relevante  \n",
       "Teste      count                                                         96  \n",
       "           unique                                                        89  \n",
       "           top            costelinha com barbecue e queijo; e camarão co...  \n",
       "           freq                                                           2  \n",
       "RELEVANCIA count                                                         96  \n",
       "           unique                                                         4  \n",
       "           top                                              Muito Relevante  \n",
       "           freq                                                          36  "
      ]
     },
     "execution_count": 31,
     "metadata": {},
     "output_type": "execute_result"
    }
   ],
   "source": [
    "test.groupby(by=\"RELEVANCIA (Naive Bayes)\").describe().transpose()"
   ]
  },
  {
   "cell_type": "code",
   "execution_count": 32,
   "metadata": {},
   "outputs": [
    {
     "data": {
      "image/png": "[encoded data removed]",
      "text/plain": [
       "<Figure size 720x504 with 1 Axes>"
      ]
     },
     "metadata": {
      "needs_background": "light"
     },
     "output_type": "display_data"
    }
   ],
   "source": [
    "plt.figure(figsize=(10, 7))\n",
    "\n",
    "\n",
    "plt.hist([test['RELEVANCIA'], test['RELEVANCIA (Naive Bayes)']], color=['c','m'], \\\n",
    "         label=['Classificação a mão', 'Classificador Naive Bayes'], edgecolor='white', bins=5, density=True)\n",
    "plt.title('Comparando a proporção de cada categoria \\n')\n",
    "plt.ylim(0, 1.0)\n",
    "plt.legend()\n",
    "\n",
    "plt.show()"
   ]
  },
  {
   "cell_type": "markdown",
   "metadata": {},
   "source": [
    "___\n",
    "### Concluindo"
   ]
  },
  {
   "cell_type": "markdown",
   "metadata": {},
   "source": [
    "#### Faça um comparativo qualitativo sobre os percentuais obtidos para que possa discutir a performance do seu classificador.\n",
    "##### Explique como são tratadas as mensagens com dupla negação e sarcasmo.\n",
    "##### Proponha um plano de expansão. Por que eles devem continuar financiando o seu projeto?\n"
   ]
  },
  {
   "cell_type": "markdown",
   "metadata": {},
   "source": [
    "A performance de nosso classificador não foi tão boa quanto o esperado, com um acerto médio percentual de classificação dos tweets (verdadeiros de cada categoria) de cerca de 48,00%.\n",
    "\n",
    "Isso provavelmente se deve a vários fatores, como a dificuldade do classificador em entender tweets com sarcasmo, ironia, gírias, memes, entre outros, e o fato de que a diferença entre tweets relevantes e muito relevantes foi muito sutil enquanto classificávamos à mão.\n",
    "\n",
    "Também pode ter havido muitas divergências durante o processo de classificação dos tweets, pois se tratava de três pessoas diferentes realizando a categorização em um curto período de tempo. Assim, caso a equipe recebesse um financiamento, poderia investir em um treinamento/capacitação para classificar os tweets de forma mais semelhante.\n",
    "\n",
    "Além disso, o projeto poderia ser expandido para classificar uma quantidade maior de tweets relacionados à Catupiry e encaminhar estratégias para trabalhar com Marketing. Por exemplo, o projeto poderia reconhecer perfis (por meio dos @s) populares e frequentemente mencionados nesses tweets para possivelmente realizar parcerias para divulgação, ou então reconhecer memes e outras possíveis abordagens atraentes ao público-alvo."
   ]
  },
  {
   "cell_type": "markdown",
   "metadata": {},
   "source": [
    "####  Discorrer por que não posso alimentar minha base de Treinamento automaticamente usando o próprio classificador, aplicado a novos tweets."
   ]
  },
  {
   "cell_type": "markdown",
   "metadata": {},
   "source": [
    "O classificador ficaria cada vez mais impreciso e ineficaz se utilizássemos o próprio classificador para categorizar algumas amostras de tweets e, então, treiná-lo com elas. Afinal, o classificador não é uma pessoa, portanto não é capaz de reconhecer certas variações nos tweets e interpretá-los corretamente, como sarcasmo, memes, ironia, contexto dos tweets, abreviações, entre outros.\n",
    "\n",
    "Ou seja, se fizéssemos isso, o classificador consideraria os erros cometidos durante sua classificação como acertos e, portanto, seria treinado de maneira incorreta. Assim, a quantidade de erros considerados corretos iria aumentar a cada vez que isso fosse feito e o classificador ficaria cada vez menos preciso e eficaz."
   ]
  },
  {
   "cell_type": "markdown",
   "metadata": {},
   "source": [
    "#### Propor diferentes cenários de uso para o classificador Naive-Bayes. Pense em outros cenários sem intersecção com este projeto."
   ]
  },
  {
   "cell_type": "markdown",
   "metadata": {},
   "source": [
    "O Naive Bayes, em conjunto com outros classificadores, pode ser utilizado na detecção de fraudes no seguro de automóveis, no qual um caso desconhecido é avaliado e classificado como uma possível fraude ou como um caso legítimo (2 categorias). Desse modo, caso o classificador identifique uma fraude, é possível tomar medidas legais para investigar o caso mais a fundo.\n",
    "\n",
    "Além disso, ele pode ser usado em seguros automobilísticos de outra maneira, analisando a probabilidade dos clientes renovarem ou não o seguro (2 categorias). Dessa forma, as seguradoras passam a ter um conhecimento maior a respeito do mercado, de suas vendas e de seus clientes, influenciando em sua tomada de decisão.\n",
    "\n",
    "Esse classificador também pode ser usado em modelos de Credit Scoring, em que se estima a probabilidade do cliente que busca aplicar ao crédito se tornar ou não inadimplente (2 categorias), ou seja, não pagar a dívida, baseado em informações pessoais e financeiras do cliente. Assim, é possível tomar uma decisão a respeito da aprovação (ou não) do crédito para o cliente."
   ]
  },
  {
   "cell_type": "markdown",
   "metadata": {},
   "source": [
    "Fontes:\n",
    "    - http://tede.mackenzie.br/jspui/bitstream/tede/1443/1/Luis%20Alexandre%20Rodrigues.pdf\n",
    "    - http://www.ica.ele.puc-rio.br/Arquivos/monografias/TCC%20-%20BRUNA%20C.%20P.%20BRUM%20Estima%C3%A7%C3%A3o%20da%20Taxa%20de%20Churn%20para%20Clientes%20de%20uma%20Seguradora%20baseado%20em%20T%C3%A9cnicas%20de%20Reconhecimento%20de%20Padr%C3%B5es.pdf\n",
    "    - https://www.teses.usp.br/teses/disponiveis/3/3142/tde-25052009-162507/publico/Dissertacao_Cristiane_Karcher_revisada.pdf"
   ]
  },
  {
   "cell_type": "markdown",
   "metadata": {},
   "source": [
    "___\n",
    "## Aperfeiçoamento:\n",
    "\n",
    "Os trabalhos vão evoluir em conceito dependendo da quantidade de itens avançados:\n",
    "\n",
    "* $OK$ Limpar: \\n, :, \", ', (, ), etc SEM remover emojis \n",
    "* $OK$ Corrigir separação de espaços entre palavras e emojis ou entre emojis e emojis \n",
    "* $OK$ Propor outras limpezas e transformações que não afetem a qualidade da informação ou classificação \n",
    "* $OK$ Criar categorias intermediárias de relevância baseadas na probabilidade: ex.: muito relevante, relevante, neutro, irrelevante, muito irrelevante (3 categorias: C, mais categorias conta para B) \n",
    "\n",
    "* $OK$ Explicar por que não posso usar o próprio classificador para gerar mais amostras de treinamento\n",
    "* $OK$ Propor diferentes cenários para Naïve Bayes fora do contexto do projeto\n",
    "\n",
    "* Sugerir e explicar melhorias reais com indicações concretas de como implementar (indicar como fazer e indicar material de pesquisa)\n",
    "\n",
    "* $OK$ Montar um dashboard que realiza análise de sentimento e visualiza estes dados"
   ]
  },
  {
   "cell_type": "markdown",
   "metadata": {},
   "source": [
    "___\n",
    "## Referências"
   ]
  },
  {
   "cell_type": "markdown",
   "metadata": {},
   "source": [
    "[Naive Bayes and Text Classification](https://arxiv.org/pdf/1410.5329.pdf)  **Mais completo**\n",
    "\n",
    "[A practical explanation of a Naive Bayes Classifier](https://monkeylearn.com/blog/practical-explanation-naive-bayes-classifier/) **Mais simples**"
   ]
  },
  {
   "cell_type": "code",
   "execution_count": null,
   "metadata": {},
   "outputs": [],
   "source": []
  }
 ],
 "metadata": {
  "kernelspec": {
   "display_name": "Python 3",
   "language": "python",
   "name": "python3"
  },
  "language_info": {
   "codemirror_mode": {
    "name": "ipython",
    "version": 3
   },
   "file_extension": ".py",
   "mimetype": "text/x-python",
   "name": "python",
   "nbconvert_exporter": "python",
   "pygments_lexer": "ipython3",
   "version": "3.7.6"
  }
 },
 "nbformat": 4,
 "nbformat_minor": 4
}
